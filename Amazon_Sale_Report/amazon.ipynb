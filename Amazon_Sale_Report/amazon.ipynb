{
 "cells": [
  {
   "cell_type": "code",
   "execution_count": 1,
   "metadata": {},
   "outputs": [],
   "source": [
    "import pandas as pd\n",
    "import numpy as np\n",
    "import seaborn as sns\n",
    "import matplotlib.pyplot as plt\n",
    "import os\n",
    "\n",
    "pwd = os.getcwd()\n",
    "\n"
   ]
  },
  {
   "cell_type": "code",
   "execution_count": 19,
   "metadata": {},
   "outputs": [
    {
     "name": "stderr",
     "output_type": "stream",
     "text": [
      "/var/folders/g9/dnddxz6s7fdbr0rk26jrnyd00000gp/T/ipykernel_3387/2155267758.py:1: DtypeWarning: Columns (23) have mixed types. Specify dtype option on import or set low_memory=False.\n",
      "  sale_report = pd.read_csv(pwd + '/Amazon Sale Report.csv')\n"
     ]
    }
   ],
   "source": [
    "sale_report = pd.read_csv(pwd + '/Amazon Sale Report.csv')"
   ]
  },
  {
   "cell_type": "code",
   "execution_count": 14,
   "metadata": {},
   "outputs": [],
   "source": [
    "sale_report = sale_report.rename(columns = {\n",
    "    'Order ID'              : 'Order_ID',\n",
    "    'Sales Channel'         : 'Sale_Channel',\n",
    "    'ship-service-level'    : 'Ship_Service_Level',\n",
    "    'Courier Status'        : 'Courier_Status',\n",
    "    'currency'              : 'Currency',\n",
    "    'ship-city'             : 'Ship_City',\n",
    "    'ship-state'            : 'Ship_State',\n",
    "    'ship-postal-code'      : 'Ship_Postal_Code',\n",
    "    'ship-country'          : 'Ship_Country',\n",
    "    'promotion-ids'         : 'Promotion_IDs',\n",
    "    'fulfilled-by'          : 'Fulfilled_By'\n",
    "}\n",
    ")"
   ]
  },
  {
   "cell_type": "code",
   "execution_count": null,
   "metadata": {},
   "outputs": [],
   "source": []
  }
 ],
 "metadata": {
  "kernelspec": {
   "display_name": "Python 3.10.7 64-bit",
   "language": "python",
   "name": "python3"
  },
  "language_info": {
   "codemirror_mode": {
    "name": "ipython",
    "version": 3
   },
   "file_extension": ".py",
   "mimetype": "text/x-python",
   "name": "python",
   "nbconvert_exporter": "python",
   "pygments_lexer": "ipython3",
   "version": "3.10.7 (v3.10.7:6cc6b13308, Sep  5 2022, 14:02:52) [Clang 13.0.0 (clang-1300.0.29.30)]"
  },
  "orig_nbformat": 4,
  "vscode": {
   "interpreter": {
    "hash": "aee8b7b246df8f9039afb4144a1f6fd8d2ca17a180786b69acc140d282b71a49"
   }
  }
 },
 "nbformat": 4,
 "nbformat_minor": 2
}
